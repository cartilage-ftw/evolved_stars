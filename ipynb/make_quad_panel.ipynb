{
 "cells": [
  {
   "cell_type": "code",
   "execution_count": 1,
   "id": "6205f58f",
   "metadata": {},
   "outputs": [],
   "source": [
    "from astropy.io import fits\n",
    "from astropy.stats import sigma_clipped_stats\n",
    "from astropy.wcs import WCS\n",
    "from astropy.wcs.utils import skycoord_to_pixel\n",
    "from mpl_toolkits.axes_grid1 import make_axes_locatable\n",
    "\n",
    "from matplotlib import patches\n",
    "\n",
    "import os\n",
    "import numpy as np\n",
    "import matplotlib.pyplot as plt"
   ]
  },
  {
   "cell_type": "code",
   "execution_count": 4,
   "id": "5e79c39d",
   "metadata": {},
   "outputs": [],
   "source": [
    "parent_dir = '../data/fits/'\n",
    "\n",
    "ep1_names = ['WHya_29SiO_v5',\n",
    "            'WHya_CO_v-1',\n",
    "                #'WHya_H13CN.clean.image',\n",
    "            'WHya_H2O',\n",
    "                #'WHya_SiO_v-1.clean.image',\n",
    "                #'WHya_SiO_v2.clean.image',\n",
    "            'WHya_SiO_v2_larger_mask',\n",
    "                #'WHya_SiO_v2_moreChannels.clean.image',\n",
    "            'WHya_SiO_v7',\n",
    "                #'WHya_SO_3sigma0.clean.image'\n",
    "            ]\n",
    "ep2_names = ['WHya_ep2_29SiO_v5',\n",
    "             'WHya_ep2_12CO_v-1',   \n",
    "                #'WHya_ep2_H13CN.clean.image',\n",
    "            'WHya_ep2_H2O',\n",
    "                #'WHya_ep2_SiO_v-1.clean.image',\n",
    "            'WHya_ep2_SiO_v-2',\n",
    "            'WHya_ep2_SiO_v7',\n",
    "                #'WHya_ep2_SO_3sigma0.clean.image'\n",
    "            ]\n",
    "\n",
    "mom_channels = ['48~83', '52~82','51~84', '35~86', '48~81']\n",
    "#mom0_suffix = '_mom0_chans16~70.fits'"
   ]
  },
  {
   "cell_type": "code",
   "execution_count": 3,
   "id": "fd3be22d",
   "metadata": {},
   "outputs": [
    {
     "data": {
      "text/plain": [
       "5"
      ]
     },
     "execution_count": 3,
     "metadata": {},
     "output_type": "execute_result"
    }
   ],
   "source": []
  },
  {
   "cell_type": "code",
   "execution_count": null,
   "id": "11be27b2",
   "metadata": {},
   "outputs": [],
   "source": []
  }
 ],
 "metadata": {
  "kernelspec": {
   "display_name": "Python 3 (ipykernel)",
   "language": "python",
   "name": "python3"
  },
  "language_info": {
   "codemirror_mode": {
    "name": "ipython",
    "version": 3
   },
   "file_extension": ".py",
   "mimetype": "text/x-python",
   "name": "python",
   "nbconvert_exporter": "python",
   "pygments_lexer": "ipython3",
   "version": "3.9.12"
  }
 },
 "nbformat": 4,
 "nbformat_minor": 5
}
